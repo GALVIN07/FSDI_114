{
 "cells": [
  {
   "cell_type": "code",
   "execution_count": 1,
   "id": "5ab798c8",
   "metadata": {},
   "outputs": [],
   "source": [
    "class Queue:\n",
    "    def __init__(self):\n",
    "        self.item = []\n",
    "    \n",
    "    def is_empty(self):\n",
    "        return self.items == []\n",
    "    \n",
    "    def enqueque(self, item):\n",
    "        self.item.insert(0, item)\n",
    "        \n",
    "    def dequeque(self):\n",
    "        return self.item.pop()\n",
    "    \n",
    "    def size(self):\n",
    "        return len(self.items)"
   ]
  },
  {
   "cell_type": "code",
   "execution_count": 2,
   "id": "38b6ee7d",
   "metadata": {},
   "outputs": [],
   "source": [
    "# are the parentheses balanced (true or false)\n",
    "# no other characters or spaces\n",
    "# opened and closed in reverse order"
   ]
  },
  {
   "cell_type": "code",
   "execution_count": 3,
   "id": "dfe8d9b0",
   "metadata": {},
   "outputs": [],
   "source": [
    "# check the len of the string odd = false or unbalanced\n",
    "# create 3 variables to store the 3 parentheses types encountered\n",
    "# travel the string and count each occurance using the temp variables \n",
    "# compare index positions 0 == last \n",
    "    # 1 == last -1"
   ]
  },
  {
   "cell_type": "code",
   "execution_count": 10,
   "id": "407f2f2d",
   "metadata": {},
   "outputs": [
    {
     "name": "stdout",
     "output_type": "stream",
     "text": [
      "True\n"
     ]
    }
   ],
   "source": [
    "def balance_str(s):\n",
    "    queue = Queue()\n",
    "    s = \"(({{[[]}}\"\n",
    "    fifo= \"\"\n",
    "    queue.size(s) == Even \n",
    "    print(\"True\")\n",
    "    \n",
    "    "
   ]
  },
  {
   "cell_type": "code",
   "execution_count": 11,
   "id": "461ca378",
   "metadata": {},
   "outputs": [
    {
     "name": "stderr",
     "output_type": "stream",
     "text": [
      "<>:1: SyntaxWarning: 'set' object is not callable; perhaps you missed a comma?\n",
      "<>:1: SyntaxWarning: 'set' object is not callable; perhaps you missed a comma?\n",
      "/tmp/ipykernel_5278/866114192.py:1: SyntaxWarning: 'set' object is not callable; perhaps you missed a comma?\n",
      "  {(([[]]))} (s, ([]))\n"
     ]
    },
    {
     "ename": "TypeError",
     "evalue": "unhashable type: 'list'",
     "output_type": "error",
     "traceback": [
      "\u001b[0;31m---------------------------------------------------------------------------\u001b[0m",
      "\u001b[0;31mTypeError\u001b[0m                                 Traceback (most recent call last)",
      "Input \u001b[0;32mIn [11]\u001b[0m, in \u001b[0;36m<module>\u001b[0;34m\u001b[0m\n\u001b[0;32m----> 1\u001b[0m {(([[]]))} (s, ([]))\n",
      "\u001b[0;31mTypeError\u001b[0m: unhashable type: 'list'"
     ]
    }
   ],
   "source": [
    "{(([[]]))} (s, ([]))"
   ]
  },
  {
   "cell_type": "code",
   "execution_count": null,
   "id": "60fa58d9",
   "metadata": {},
   "outputs": [],
   "source": []
  }
 ],
 "metadata": {
  "kernelspec": {
   "display_name": "Python 3 (ipykernel)",
   "language": "python",
   "name": "python3"
  },
  "language_info": {
   "codemirror_mode": {
    "name": "ipython",
    "version": 3
   },
   "file_extension": ".py",
   "mimetype": "text/x-python",
   "name": "python",
   "nbconvert_exporter": "python",
   "pygments_lexer": "ipython3",
   "version": "3.8.10"
  }
 },
 "nbformat": 4,
 "nbformat_minor": 5
}
