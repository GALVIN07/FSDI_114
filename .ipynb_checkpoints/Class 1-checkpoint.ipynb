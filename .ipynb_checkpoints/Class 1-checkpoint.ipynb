{
 "cells": [
  {
   "cell_type": "code",
   "execution_count": 3,
   "id": "4c479032",
   "metadata": {},
   "outputs": [
    {
     "name": "stdout",
     "output_type": "stream",
     "text": [
      "h\n",
      "e\n",
      "l\n",
      "l\n",
      "o\n",
      ",\n",
      " \n",
      "w\n",
      "o\n",
      "r\n",
      "l\n",
      "d\n",
      "!\n"
     ]
    }
   ],
   "source": [
    "for letter in \"hello, world!\":\n",
    "    print(letter)"
   ]
  },
  {
   "cell_type": "markdown",
   "id": "ad6a76c7",
   "metadata": {},
   "source": [
    "#Hello, world!\n",
    "\n",
    "* bullet point\n",
    "\n",
    "> quote\n",
    "\n",
    "`Plain old text.`\n",
    "\n",
    "```Triple Backticks```\n",
    "\n",
    "[test](example.com)"
   ]
  },
  {
   "cell_type": "markdown",
   "id": "a6a70a03",
   "metadata": {},
   "source": [
    "# Problem 1\n",
    "### Given two strings (string_a and String_b) lets check whether or not they are \n",
    "### anangrams of each other given the collowing criteria\n",
    "\n",
    "> Two strings are only anagrams of each other if all conditions below are met:\n",
    "> * They must be exactly the same length\n",
    "> * They must use exactly the same characters (no more, no less).\n",
    "> * Example: cars and scars, heart and earth, etc"
   ]
  },
  {
   "cell_type": "code",
   "execution_count": null,
   "id": "95cfd2d7",
   "metadata": {},
   "outputs": [],
   "source": [
    "# create 2 variable obj1 and obj2\n",
    "# compare length of each obj within a for loop\n",
    "obj1=[\"\"]\n",
    "obj2=[\"\"]\n",
    "if\n",
    "    obj1.length == obj2.length\n",
    "    print(\"True\")\n",
    "else \n",
    "    print(\"False\")\n",
    "# use the sort method to identify the individual items inside the list regardless of index position\n",
    "obj1.sort()\n",
    "obj2.sort()\n",
    "\n",
    "# if the objects are not equal print false\n",
    "if \n",
    "    obj1 != obj2\n",
    "print(\"false\")"
   ]
  },
  {
   "cell_type": "code",
   "execution_count": null,
   "id": "5eba698e",
   "metadata": {},
   "outputs": [],
   "source": [
    "def is_anagram(string_a, string_b):         # function definition\n",
    "    if len(string_a) != len(string_b):      # Check if sting_a's length does not equal string_b's.\n",
    "        return False                        # if previous condition is true, return False.\n",
    "    da = dict()                             # Create 2 empty dictionaries.\n",
    "    db = dict()\n",
    "    for i in range(len(string_a)):          # Looping for every value in the range 0 to lenth of string_a.\n",
    "        if string_a[i not in da.keys():     # if the character at postion i in string_a isn't in da.\n",
    "            da[i]=1                         # ... create a new entry with a value of 1.\n",
    "        else:\n",
    "            da[i] += 1                      # otherwise: add 1 to the value of the existing entry.\n",
    "        if string_b[i] not in db.keys():    # Looping for every value in the range 0 to lenth of string_b.\n",
    "            db[i] = 1                       # if the character at postion i in string_b isn't in db.\n",
    "        else:\n",
    "            db[i] += 1                      # otherwise: add 1 to the value of the existing entry.\n",
    "    return da.strip.lower == db.strip.lower # Finally: compare da to db, return True if they are the same...\n",
    "                                            # or False otherwise\n",
    "                        \n",
    "            "
   ]
  },
  {
   "cell_type": "code",
   "execution_count": null,
   "id": "3c0d9a68",
   "metadata": {},
   "outputs": [],
   "source": [
    "# Consider the popular Harry Potter series:\n",
    "# \"I am Lord Voldemort\" is an anagram of \"Tom Marvolo Riddle\"\n",
    "\n",
    "# The characters are different cases in both strings.\n",
    "# you could send them to your dictionaries in lower case using the .lower function\n",
    "# Cracking the Coding Interview (Book to get)"
   ]
  }
 ],
 "metadata": {
  "kernelspec": {
   "display_name": "Python 3 (ipykernel)",
   "language": "python",
   "name": "python3"
  },
  "language_info": {
   "codemirror_mode": {
    "name": "ipython",
    "version": 3
   },
   "file_extension": ".py",
   "mimetype": "text/x-python",
   "name": "python",
   "nbconvert_exporter": "python",
   "pygments_lexer": "ipython3",
   "version": "3.8.10"
  }
 },
 "nbformat": 4,
 "nbformat_minor": 5
}
