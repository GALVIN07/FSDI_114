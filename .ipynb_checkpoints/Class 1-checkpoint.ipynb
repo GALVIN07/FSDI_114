{
 "cells": [
  {
   "cell_type": "code",
   "execution_count": 3,
   "id": "31917ac8",
   "metadata": {},
   "outputs": [
    {
     "name": "stdout",
     "output_type": "stream",
     "text": [
      "h\n",
      "e\n",
      "l\n",
      "l\n",
      "o\n",
      ",\n",
      " \n",
      "w\n",
      "o\n",
      "r\n",
      "l\n",
      "d\n",
      "!\n"
     ]
    }
   ],
   "source": [
    "for letter in \"hello, world!\":\n",
    "    print(letter)"
   ]
  },
  {
   "cell_type": "code",
   "execution_count": null,
   "id": "b49cedca",
   "metadata": {},
   "outputs": [],
   "source": []
  },
  {
   "cell_type": "markdown",
   "id": "77d603a1",
   "metadata": {},
   "source": [
    "#Hello, world!\n",
    "\n",
    "* bullet point\n",
    "\n",
    "> quote\n",
    "\n",
    "`Plain old text.`\n",
    "\n",
    "```Triple Backticks```\n",
    "\n",
    "[test](example.com)"
   ]
  },
  {
   "cell_type": "markdown",
   "id": "6aa0d849",
   "metadata": {},
   "source": [
    "# Problem 1\n",
    "### Given two strings (string_a and String_b) lets check whether or not they are \n",
    "### anangrams of each other given the collowing criteria\n",
    "\n",
    "> Two strings are only anagrams of each other if all conditions below are met:\n",
    "> * They must be exactly the same length\n",
    "> * They must use exactly the same characters (no more, no less).\n",
    "> * Example: cars and scars, heart and earth, etc"
   ]
  },
  {
   "cell_type": "code",
   "execution_count": null,
   "id": "1c62cb57",
   "metadata": {},
   "outputs": [],
   "source": [
    "# create 2 variable obj1 and obj2\n",
    "# compare length of each obj within a for loop\n",
    "obj1=[\"\"]\n",
    "obj2=[\"\"]\n",
    "if\n",
    "    obj1.length == obj2.length\n",
    "    print(\"True\")\n",
    "else \n",
    "    print(\"False\")\n",
    "# use the sort method to identify the individual items inside the list regardless of index position\n",
    "obj1.sort()\n",
    "obj2.sort()\n",
    "\n",
    "# if the objects are not equal print false\n",
    "if \n",
    "    obj1 != obj2\n",
    "print(\"false\")"
   ]
  },
  {
   "cell_type": "code",
   "execution_count": 1,
   "id": "0af02f9e",
   "metadata": {},
   "outputs": [
    {
     "ename": "SyntaxError",
     "evalue": "invalid syntax (3323104990.py, line 1)",
     "output_type": "error",
     "traceback": [
      "\u001b[0;36m  Input \u001b[0;32mIn [1]\u001b[0;36m\u001b[0m\n\u001b[0;31m    def is_anagram(I am Lord Voldemort, Tom Marvolo Riddle):         # function definition\u001b[0m\n\u001b[0m                     ^\u001b[0m\n\u001b[0;31mSyntaxError\u001b[0m\u001b[0;31m:\u001b[0m invalid syntax\n"
     ]
    }
   ],
   "source": [
    "def is_anagram(I am Lord Voldemort, Tom Marvolo Riddle):         # function definition\n",
    "    if len(I am Lord Voldemort) != len(Tom Marvolo Riddle):      # Check if sting_a's length does not equal string_b's.\n",
    "        return False                        # if previous condition is true, return False.\n",
    "    da = dict()                             # Create 2 empty dictionaries.\n",
    "    db = dict()\n",
    "    for i in range(len(I am Lord Voldemort)):          # Looping for every value in the range 0 to lenth of string_a.\n",
    "        if I am Lord Voldemort[i] not in da.keys():     # if the character at postion i in string_a isn't in da.\n",
    "            da[i] = 1                         # ... create a new entry with a value of 1.\n",
    "        else:\n",
    "            da[i] += 1                      # otherwise: add 1 to the value of the existing entry.\n",
    "        if Tom Marvolo Riddle[i] not in db.keys():    # Looping for every value in the range 0 to lenth of string_b.\n",
    "            db[i] = 1                       # if the character at postion i in string_b isn't in db.\n",
    "        else:\n",
    "            db[i] += 1                      # otherwise: add 1 to the value of the existing entry.\n",
    "    return da.strip.lower == db.strip.lower # Finally: compare da to db, return True if they are the same...\n",
    "                                            # or False otherwise\n",
    "                        \n",
    "             "
   ]
  },
  {
   "cell_type": "code",
   "execution_count": null,
   "id": "35de586c",
   "metadata": {},
   "outputs": [],
   "source": [
    "# Consider the popular Harry Potter series:\n",
    "# \"I am Lord Voldemort\" is an anagram of \"Tom Marvolo Riddle\"\n",
    "\n",
    "# The characters are different cases in both strings.\n",
    "# you could send them to your dictionaries in lower case using the .lower function\n",
    "# Cracking the Coding Interview (Book to get)"
   ]
  },
  {
   "cell_type": "code",
   "execution_count": 19,
   "id": "4437cdc7",
   "metadata": {},
   "outputs": [],
   "source": [
    "class Stack:\n",
    "    def __init__(self):\n",
    "        self.items = []\n",
    "    def push(self, item):\n",
    "        self.items.append(item)\n",
    "    def pop(self):\n",
    "        return self.items.pop\n",
    "    def is_empty(self):\n",
    "        return self.items == []\n",
    "    def peek(self):\n",
    "        self.items[len(self.items)-1]\n",
    "    def size(self):\n",
    "        return len(self.items)\n",
    "    def __len__(self):\n",
    "        return self.size()\n",
    "        \n",
    "    "
   ]
  },
  {
   "cell_type": "markdown",
   "id": "22194d9b",
   "metadata": {},
   "source": [
    "# Problem 2: Reverse a string using a stack.\n",
    "Given a string as a parameter, use a stack to reverse it.\n",
    "Examples: \"gary\" -> \"yrag\" You dont have to worry about cases.\n",
    "reverse()"
   ]
  },
  {
   "cell_type": "code",
   "execution_count": 9,
   "id": "d233e893",
   "metadata": {},
   "outputs": [],
   "source": [
    "def reverse(astring):\n",
    "    stack=Stack[]\n",
    "    output = \"\"\n",
    "    for letter in astring:\n",
    "        stack.push(letter)\n",
    "    while not stack.is_empty():\n",
    "        output += stack.pop()\n",
    "    return output\n"
   ]
  },
  {
   "cell_type": "code",
   "execution_count": 23,
   "id": "b6e0abec",
   "metadata": {},
   "outputs": [
    {
     "ename": "AttributeError",
     "evalue": "'Stack' object has no attribute 'pus'",
     "output_type": "error",
     "traceback": [
      "\u001b[0;31m---------------------------------------------------------------------------\u001b[0m",
      "\u001b[0;31mAttributeError\u001b[0m                            Traceback (most recent call last)",
      "Input \u001b[0;32mIn [23]\u001b[0m, in \u001b[0;36m<module>\u001b[0;34m\u001b[0m\n\u001b[0;32m----> 1\u001b[0m \u001b[43mreverse\u001b[49m\u001b[43m(\u001b[49m\u001b[38;5;124;43m\"\u001b[39;49m\u001b[38;5;124;43mastring\u001b[39;49m\u001b[38;5;124;43m\"\u001b[39;49m\u001b[43m)\u001b[49m\n",
      "Input \u001b[0;32mIn [9]\u001b[0m, in \u001b[0;36mreverse\u001b[0;34m(astring)\u001b[0m\n\u001b[1;32m      3\u001b[0m output \u001b[38;5;241m=\u001b[39m \u001b[38;5;124m\"\u001b[39m\u001b[38;5;124m\"\u001b[39m\n\u001b[1;32m      4\u001b[0m \u001b[38;5;28;01mfor\u001b[39;00m letter \u001b[38;5;129;01min\u001b[39;00m astring:\n\u001b[0;32m----> 5\u001b[0m     \u001b[43mstack\u001b[49m\u001b[38;5;241;43m.\u001b[39;49m\u001b[43mpus\u001b[49m(letter)\n\u001b[1;32m      6\u001b[0m \u001b[38;5;28;01mwhile\u001b[39;00m \u001b[38;5;129;01mnot\u001b[39;00m stack\u001b[38;5;241m.\u001b[39mis_empty():\n\u001b[1;32m      7\u001b[0m     output \u001b[38;5;241m+\u001b[39m\u001b[38;5;241m=\u001b[39m stack\u001b[38;5;241m.\u001b[39mpop()\n",
      "\u001b[0;31mAttributeError\u001b[0m: 'Stack' object has no attribute 'pus'"
     ]
    }
   ],
   "source": [
    "reverse(\"astring\")"
   ]
  },
  {
   "cell_type": "code",
   "execution_count": null,
   "id": "54da4ec9",
   "metadata": {},
   "outputs": [],
   "source": []
  }
 ],
 "metadata": {
  "kernelspec": {
   "display_name": "Python 3 (ipykernel)",
   "language": "python",
   "name": "python3"
  },
  "language_info": {
   "codemirror_mode": {
    "name": "ipython",
    "version": 3
   },
   "file_extension": ".py",
   "mimetype": "text/x-python",
   "name": "python",
   "nbconvert_exporter": "python",
   "pygments_lexer": "ipython3",
   "version": "3.8.10"
  }
 },
 "nbformat": 4,
 "nbformat_minor": 5
}
