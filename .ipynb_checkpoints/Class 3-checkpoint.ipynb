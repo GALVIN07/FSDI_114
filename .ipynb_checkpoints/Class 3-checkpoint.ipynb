{
 "cells": [
  {
   "cell_type": "code",
   "execution_count": 33,
   "id": "3822cfeb",
   "metadata": {},
   "outputs": [],
   "source": [
    "class Queue2Stacks:\n",
    "    def __init__(self):\n",
    "        self.stack1 = []\n",
    "        self.stack2 = []\n",
    "    \n",
    "    def enqueue(self, element):\n",
    "        self.stack1.append(element)\n",
    "        \n",
    "    \n",
    "    def dequeue(self):\n",
    "        while self.stack1 != []:\n",
    "            myvar = self.stack1.pop()\n",
    "        \n",
    "            self.stack2.append(myvar)\n",
    "        return self.stack2\n",
    "            "
   ]
  },
  {
   "cell_type": "code",
   "execution_count": null,
   "id": "275ebda8",
   "metadata": {},
   "outputs": [],
   "source": []
  },
  {
   "cell_type": "code",
   "execution_count": 35,
   "id": "713175e6",
   "metadata": {},
   "outputs": [
    {
     "ename": "NameError",
     "evalue": "name 'stack2' is not defined",
     "output_type": "error",
     "traceback": [
      "\u001b[0;31m---------------------------------------------------------------------------\u001b[0m",
      "\u001b[0;31mNameError\u001b[0m                                 Traceback (most recent call last)",
      "Input \u001b[0;32mIn [35]\u001b[0m, in \u001b[0;36m<module>\u001b[0;34m\u001b[0m\n\u001b[1;32m      3\u001b[0m     q\u001b[38;5;241m.\u001b[39menqueue(i)\n\u001b[1;32m      4\u001b[0m \u001b[38;5;28;01mfor\u001b[39;00m i \u001b[38;5;129;01min\u001b[39;00m \u001b[38;5;28mrange\u001b[39m(\u001b[38;5;241m5\u001b[39m):\n\u001b[0;32m----> 5\u001b[0m     \u001b[38;5;28mprint\u001b[39m(\u001b[43mq\u001b[49m\u001b[38;5;241;43m.\u001b[39;49m\u001b[43mdequeue\u001b[49m\u001b[43m(\u001b[49m\u001b[43m)\u001b[49m)\n",
      "Input \u001b[0;32mIn [33]\u001b[0m, in \u001b[0;36mQueue2Stacks.dequeue\u001b[0;34m(self)\u001b[0m\n\u001b[1;32m     12\u001b[0m     myvar \u001b[38;5;241m=\u001b[39m \u001b[38;5;28mself\u001b[39m\u001b[38;5;241m.\u001b[39mstack1\u001b[38;5;241m.\u001b[39mpop()\n\u001b[1;32m     14\u001b[0m     \u001b[38;5;28mself\u001b[39m\u001b[38;5;241m.\u001b[39mstack2\u001b[38;5;241m.\u001b[39mappend(myvar)\n\u001b[0;32m---> 15\u001b[0m \u001b[38;5;28;01mreturn\u001b[39;00m \u001b[43mstack2\u001b[49m\n",
      "\u001b[0;31mNameError\u001b[0m: name 'stack2' is not defined"
     ]
    }
   ],
   "source": [
    "q = Queue2Stacks()\n",
    "for i in range(5):\n",
    "    q.enqueue(i)\n",
    "for i in range(5):\n",
    "    print(q.dequeue())\n",
    "    "
   ]
  },
  {
   "cell_type": "code",
   "execution_count": null,
   "id": "83922310",
   "metadata": {},
   "outputs": [],
   "source": []
  }
 ],
 "metadata": {
  "kernelspec": {
   "display_name": "Python 3 (ipykernel)",
   "language": "python",
   "name": "python3"
  },
  "language_info": {
   "codemirror_mode": {
    "name": "ipython",
    "version": 3
   },
   "file_extension": ".py",
   "mimetype": "text/x-python",
   "name": "python",
   "nbconvert_exporter": "python",
   "pygments_lexer": "ipython3",
   "version": "3.8.10"
  }
 },
 "nbformat": 4,
 "nbformat_minor": 5
}
