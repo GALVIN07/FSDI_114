{
 "cells": [
  {
   "cell_type": "code",
   "execution_count": 1,
   "id": "5ab798c8",
   "metadata": {},
   "outputs": [],
   "source": [
    "class Queue:\n",
    "    def __init__(self):\n",
    "        self.item = []\n",
    "    \n",
    "    def is_empty(self):\n",
    "        return self.items == []\n",
    "    \n",
    "    def enqueque(self, item):\n",
    "        self.item.insert(0, item)\n",
    "        \n",
    "    def dequeque(self):\n",
    "        return self.item.pop()\n",
    "    \n",
    "    def size(self):\n",
    "        return len(self.items)"
   ]
  },
  {
   "cell_type": "code",
   "execution_count": 2,
   "id": "38b6ee7d",
   "metadata": {},
   "outputs": [],
   "source": [
    "# are the parentheses balanced (true or false)\n",
    "# no other characters or spaces\n",
    "# opened and closed in reverse order"
   ]
  },
  {
   "cell_type": "code",
   "execution_count": 3,
   "id": "dfe8d9b0",
   "metadata": {},
   "outputs": [],
   "source": [
    "# check the len of the string odd = false or unbalanced\n",
    "# create 3 variables to store the 3 parentheses types encountered\n",
    "# travel the string and count each occurance using the temp variables \n",
    "# compare index positions 0 == last \n",
    "    # 1 == last -1"
   ]
  },
  {
   "cell_type": "code",
   "execution_count": 13,
   "id": "8549a7bc",
   "metadata": {},
   "outputs": [],
   "source": [
    "class Stack:\n",
    "    def __init__(self):\n",
    "        self.items = []\n",
    "    def push(self, item):\n",
    "        self.items.append(item)\n",
    "    def pop(self):\n",
    "        return self.items.pop()\n",
    "    def is_empty(self):\n",
    "        return self.items == []\n",
    "    def peek(self):\n",
    "        self.items[len(self.items)-1]\n",
    "    def size(self):\n",
    "        return len(self.items)\n",
    "    def __len__(self):\n",
    "        return self.size()\n",
    "    def is_empty(self):\n",
    "        return self.items == []"
   ]
  },
  {
   "cell_type": "code",
   "execution_count": 12,
   "id": "a6beae21",
   "metadata": {},
   "outputs": [],
   "source": [
    "def is_balanced(s):\n",
    "    if len(s)%2 != 0:\n",
    "        return False\n",
    "    opening = set(\"{([\")\n",
    "    matches = set([\n",
    "        (\"(\", \")\"), \n",
    "        (\"[\", \"]\"), \n",
    "        (\"{\", \"}\") \n",
    "    ])\n",
    "    stack = Stack()\n",
    "    for paren in s:\n",
    "        if paren in opening:\n",
    "            stack.push(paren)\n",
    "        else:\n",
    "            if stack.is_empty():\n",
    "                return False\n",
    "            last_open = stack.pop()\n",
    "            if (last_open, paren) not in matches:\n",
    "                return False\n",
    "    return stack.is_empty()\n",
    "    \n",
    "    "
   ]
  },
  {
   "cell_type": "code",
   "execution_count": null,
   "id": "db45a2d1",
   "metadata": {},
   "outputs": [],
   "source": []
  }
 ],
 "metadata": {
  "kernelspec": {
   "display_name": "Python 3 (ipykernel)",
   "language": "python",
   "name": "python3"
  },
  "language_info": {
   "codemirror_mode": {
    "name": "ipython",
    "version": 3
   },
   "file_extension": ".py",
   "mimetype": "text/x-python",
   "name": "python",
   "nbconvert_exporter": "python",
   "pygments_lexer": "ipython3",
   "version": "3.8.10"
  }
 },
 "nbformat": 4,
 "nbformat_minor": 5
}
