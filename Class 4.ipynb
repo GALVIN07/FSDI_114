{
 "cells": [
  {
   "cell_type": "code",
   "execution_count": 1,
   "id": "379903ae",
   "metadata": {},
   "outputs": [],
   "source": [
    "class Node:\n",
    "    def __init__(self, data):\n",
    "        self.data = data\n",
    "        self.next = None\n",
    "        \n",
    "class DNode:\n",
    "    def __init__(selef, data):\n",
    "        self.data = data\n",
    "        self.next = None\n",
    "        self.prev = None"
   ]
  },
  {
   "cell_type": "code",
   "execution_count": 2,
   "id": "cad9f277",
   "metadata": {},
   "outputs": [],
   "source": [
    "mylist = []\n"
   ]
  },
  {
   "cell_type": "code",
   "execution_count": 7,
   "id": "45787a0e",
   "metadata": {},
   "outputs": [],
   "source": [
    "class SinglyLinkedList:\n",
    "    def __init__(self):\n",
    "        self.head = None\n",
    "        \n",
    "    def append(self, item):\n",
    "        current = self.head\n",
    "        if self.head == None:\n",
    "            self.head = Node(item)\n",
    "        else:\n",
    "            while current.next:\n",
    "                current = current.next\n",
    "            current.next = Node(item)\n",
    "            \n",
    "    def insert(self, position_after, target_value):\n",
    "        current = self.head\n",
    "        counter = 0\n",
    "        if self.head == none:\n",
    "            self.head = Node(target_value)\n",
    "        else:\n",
    "            while current.next and position_after != counter:\n",
    "                current = current.next\n",
    "                counter += 1\n",
    "            old_next = current.next\n",
    "            new_node = Node(target_value)\n",
    "            current.next = new_node\n",
    "            new_node.next = old_next\n",
    "            \n",
    "    def print_list(self):\n",
    "        out_str = \"[\" \n",
    "        current = self.head\n",
    "        if self.head:\n",
    "            out_str += \"%s\" % self.head.data\n",
    "        current = self.head.next\n",
    "        while current:\n",
    "            out_str += \", %s\" % current.data \n",
    "            current = current.next\n",
    "        out_str += \"]\" \n",
    "        return out_str\n",
    "    \n",
    "    def __str__(self):\n",
    "        return self.print_list()\n",
    "    \n",
    "    def index(self, target):\n",
    "        current = self.head\n",
    "        counter = 0\n",
    "        while current:\n",
    "            if current.data == target:\n",
    "                return counter\n",
    "            current = current.next\n",
    "            counter += 1\n",
    "        raise ValueError(\"%s is not in the list\" % target)\n",
    "        \n",
    "    def get_value_at_index(self, index):\n",
    "        current = self.head\n",
    "        counter = 0\n",
    "        if counter == index:\n",
    "            return current.data\n",
    "        else:\n",
    "            current = current.next\n",
    "            counter += 1\n",
    "        raise IndexError(\"list index out of range\")\n",
    "        \n",
    "    def __getitem__(self, item):\n",
    "        return self.get_value_at_index(item)\n",
    "    \n",
    "    def remove(self, target_value):\n",
    "        current = self.head\n",
    "        found = False\n",
    "        if current.data == target_value:\n",
    "            self.head = self.head.next\n",
    "        while current.next and current.data != target_value:\n",
    "            prev = current\n",
    "            current = current.next\n",
    "        if current.data == target_value:\n",
    "            found = True\n",
    "            prev.next = current.next\n",
    "        if not found:\n",
    "            raise ValueError(\"%s is not in list\")"
   ]
  },
  {
   "cell_type": "code",
   "execution_count": 9,
   "id": "c38ef737",
   "metadata": {},
   "outputs": [],
   "source": [
    "sll = SinglyLinkedList()\n",
    " # for i in range(5):\n",
    " #    sll.append(i)\n",
    "for letter in \"abcd\":\n",
    "    sll.append(letter)\n",
    "  \n"
   ]
  },
  {
   "cell_type": "code",
   "execution_count": 10,
   "id": "5de58130",
   "metadata": {},
   "outputs": [
    {
     "name": "stdout",
     "output_type": "stream",
     "text": [
      "[a, b, c, d]\n"
     ]
    }
   ],
   "source": [
    "print(sll)"
   ]
  },
  {
   "cell_type": "code",
   "execution_count": null,
   "id": "e5d11ce1",
   "metadata": {},
   "outputs": [],
   "source": []
  }
 ],
 "metadata": {
  "kernelspec": {
   "display_name": "Python 3 (ipykernel)",
   "language": "python",
   "name": "python3"
  },
  "language_info": {
   "codemirror_mode": {
    "name": "ipython",
    "version": 3
   },
   "file_extension": ".py",
   "mimetype": "text/x-python",
   "name": "python",
   "nbconvert_exporter": "python",
   "pygments_lexer": "ipython3",
   "version": "3.8.10"
  }
 },
 "nbformat": 4,
 "nbformat_minor": 5
}
